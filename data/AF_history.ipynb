{
 "cells": [
  {
   "cell_type": "code",
   "execution_count": 15,
   "metadata": {},
   "outputs": [],
   "source": [
    "import tabula\n",
    "import pandas as pd\n"
   ]
  },
  {
   "cell_type": "code",
   "execution_count": 16,
   "metadata": {},
   "outputs": [],
   "source": [
    "# input\n",
    "AF_pdf_path = \"/home/antoine/projects/data/AF/data/Anytime Fitness Visits & Tans.pdf\"\n",
    "# output\n",
    "AF_csv_path = \"/home/antoine/projects/data/AF/data/AF_history.csv\"\n"
   ]
  },
  {
   "cell_type": "code",
   "execution_count": 17,
   "metadata": {},
   "outputs": [],
   "source": [
    "# read PDF\n",
    "AF_data = tabula.read_pdf(\n",
    "    AF_pdf_path,\n",
    "    pages=\"all\",\n",
    "    stream=True,\n",
    "    lattice=False,\n",
    "    guess=False,\n",
    ")\n",
    "\n",
    "# concat to one dataframe\n",
    "AF_data_edit = []\n",
    "for i, df in enumerate(AF_data):\n",
    "    df = pd.concat([df.columns.to_frame().T, df], ignore_index=True)\n",
    "    df.columns = [\"location\", \"date\", \"time\"]\n",
    "    AF_data_edit.append(df)\n",
    "AF_data_clean = pd.concat(AF_data_edit, axis=0).reset_index()\n",
    "\n",
    "# remove rows\n",
    "AF_data_clean = AF_data_clean.iloc[5:,].copy()\n",
    "\n",
    "# datetime column\n",
    "AF_data_clean[\"datetime\"] = pd.to_datetime(\n",
    "    AF_data_clean[\"date\"] + \" \" + AF_data_clean[\"time\"]\n",
    ")\n",
    "AF_data_clean.drop([\"index\", \"date\", \"time\"], inplace=True, axis=1)\n",
    "\n",
    "# to csv\n",
    "AF_data_clean.to_csv(AF_csv_path)\n"
   ]
  }
 ],
 "metadata": {
  "kernelspec": {
   "display_name": "analyze",
   "language": "python",
   "name": "python3"
  },
  "language_info": {
   "codemirror_mode": {
    "name": "ipython",
    "version": 3
   },
   "file_extension": ".py",
   "mimetype": "text/x-python",
   "name": "python",
   "nbconvert_exporter": "python",
   "pygments_lexer": "ipython3",
   "version": "3.11.0"
  },
  "orig_nbformat": 4,
  "vscode": {
   "interpreter": {
    "hash": "4fad92fc09697bd12bf746367e88fef84c0fae565d54cb72f630a529793dba85"
   }
  }
 },
 "nbformat": 4,
 "nbformat_minor": 2
}
